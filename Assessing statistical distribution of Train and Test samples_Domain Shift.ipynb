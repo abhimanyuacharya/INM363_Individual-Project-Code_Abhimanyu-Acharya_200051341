{
 "cells": [
  {
   "cell_type": "code",
   "execution_count": 3,
   "id": "70136e41",
   "metadata": {},
   "outputs": [],
   "source": [
    "import glob\n",
    "import time\n",
    "import os\n",
    "\n",
    "import matplotlib.pyplot as plt\n",
    "import numpy as np\n",
    "import pandas as pd\n",
    "import seaborn as sns\n",
    "import altair as alt\n",
    "pd.set_option('display.max_columns', None)\n",
    "\n",
    "import Utility_functions as ut\n",
    "\n",
    "#Scaling\n",
    "from sklearn.preprocessing import StandardScaler, MinMaxScaler\n",
    "from sklearn.model_selection import train_test_split\n",
    "\n",
    "#Distnce Matrix\n",
    "from scipy.spatial import distance_matrix, distance\n",
    "from scipy.special import softmax\n",
    "\n",
    "data_dir = 'C:/Dissertation/Data/'\n",
    "kg_vec = 1020"
   ]
  },
  {
   "cell_type": "code",
   "execution_count": 49,
   "id": "b958fa2d",
   "metadata": {},
   "outputs": [
    {
     "name": "stdout",
     "output_type": "stream",
     "text": [
      "Using Resnet101 Features provided with data\n",
      "Animal Attributes Included - Continous Vector\n",
      "DBpedia Animal Attributes Included\n",
      "Execution time: 12.64443325996399 seconds\n"
     ]
    }
   ],
   "source": [
    "Final_Images_df, predicate_df = ut.AWA2DataLoader(data_dir, data_type = \"ResNet101-Features\", \n",
    "                                                  Resnet101Type = 1, \n",
    "                                                  animal_attributes = 'DBpedia', \n",
    "                                                  VectorType = 'Continous')\n",
    "\n",
    "#data_type options\n",
    "#1. \"ResNet101-Features\" to load Extracted Resnet101 features Avg. Time - 12 secs\n",
    "#2. \"Images\"\n",
    "\n",
    "#Resnet101Type\n",
    "# 1 - Using Resnet Features provided with data\n",
    "# 2 - Using Resnet Features extracted by Abhimanyu Acharya using a pretrainied Resnet101\n",
    "\n",
    "# animal_attribute\n",
    "#1. \"AwA2\" - As provided with AwA2 data\n",
    "#2. \"Custom Animal Attribute KG\" - Custom KGs\n",
    "#3. \"Custom KG Extended 01\" - Custom KGs with ontology alignment\n",
    "#3. \"Custom KG Extended 02\" - Custom KGs with ontology alignment + vector combination\n",
    "#4. \"Word2Vec\" - word2vec-google-news-300\n",
    "#4. \"Word2Vec Extended\" - Extended Word2Vec\n",
    "#5. \"Dbnary\" - Dbnary Knowledge Graph/Wiktionary (KGVec2Go Wiktionary/DBnary)\n",
    "#6. \"DBpedia\" - DBPedia Knowledge Graph (KGVec2Go Classic RDF2vec: 500 walks, depth: 4, SG, 200 dimensions)\n",
    "#7. \"WordNet\" - WordNet Knowledge Graph (KGVec2Go WordNet)\n",
    "#8. \"Custom Animal Attribute KG Extended\" - Extended Custom KGs\n"
   ]
  },
  {
   "cell_type": "code",
   "execution_count": 50,
   "id": "a0a7e88e",
   "metadata": {},
   "outputs": [
    {
     "name": "stdout",
     "output_type": "stream",
     "text": [
      "\u001b[1m \u001b[91m Training - Validation Split 01 \u001b[0m\n",
      "\u001b[1m Train Classes \u001b[0m \n",
      " Number of Classes 27 \n",
      " ['antelope' 'buffalo' 'chihuahua' 'collie' 'cow' 'elephant' 'fox'\n",
      " 'german+shepherd' 'grizzly+bear' 'hippopotamus' 'humpback+whale'\n",
      " 'killer+whale' 'lion' 'mouse' 'otter' 'persian+cat' 'pig' 'polar+bear'\n",
      " 'rhinoceros' 'siamese+cat' 'skunk' 'spider+monkey' 'squirrel' 'tiger'\n",
      " 'weasel' 'wolf' 'zebra'] \n",
      "\n",
      "\u001b[1m Validation Classes \u001b[0m \n",
      " Number of Classes 13 \n",
      " ['beaver' 'chimpanzee' 'dalmatian' 'deer' 'giant+panda' 'gorilla'\n",
      " 'hamster' 'leopard' 'mole' 'moose' 'ox' 'rabbit' 'raccoon'] \n",
      "\n",
      "\u001b[1m \u001b[91m Training - Validation Split 02 \u001b[0m\n",
      "\u001b[1m Train Classes \u001b[0m \n",
      " Number of Classes 27 \n",
      " ['buffalo' 'chimpanzee' 'collie' 'cow' 'deer' 'elephant' 'german+shepherd'\n",
      " 'giant+panda' 'gorilla' 'hamster' 'hippopotamus' 'humpback+whale'\n",
      " 'leopard' 'lion' 'mole' 'moose' 'mouse' 'polar+bear' 'rabbit' 'raccoon'\n",
      " 'rhinoceros' 'siamese+cat' 'spider+monkey' 'squirrel' 'tiger' 'weasel'\n",
      " 'wolf'] \n",
      "\n",
      "\u001b[1m Validation Classes \u001b[0m \n",
      " Number of Classes 13 \n",
      " ['antelope' 'beaver' 'chihuahua' 'dalmatian' 'fox' 'grizzly+bear'\n",
      " 'killer+whale' 'otter' 'ox' 'persian+cat' 'pig' 'skunk' 'zebra'] \n",
      "\n",
      "\u001b[1m \u001b[91m Training - Validation Split 03 \u001b[0m\n",
      "\u001b[1m Train Classes \u001b[0m \n",
      " Number of Classes 27 \n",
      " ['antelope' 'beaver' 'buffalo' 'collie' 'cow' 'dalmatian' 'deer'\n",
      " 'elephant' 'fox' 'german+shepherd' 'gorilla' 'grizzly+bear' 'hamster'\n",
      " 'hippopotamus' 'killer+whale' 'leopard' 'lion' 'mole' 'mouse' 'otter'\n",
      " 'ox' 'persian+cat' 'polar+bear' 'skunk' 'spider+monkey' 'tiger' 'zebra'] \n",
      "\n",
      "\u001b[1m Validation Classes \u001b[0m \n",
      " Number of Classes 13 \n",
      " ['chihuahua' 'chimpanzee' 'giant+panda' 'humpback+whale' 'moose' 'pig'\n",
      " 'rabbit' 'raccoon' 'rhinoceros' 'siamese+cat' 'squirrel' 'weasel' 'wolf'] \n",
      "\n",
      "\u001b[1m \u001b[91m Training \u001b[0m\n",
      "\u001b[1m Train Classes \u001b[0m \n",
      " Number of Classes 27 \n",
      " ['antelope' 'buffalo' 'chihuahua' 'collie' 'cow' 'elephant' 'fox'\n",
      " 'german+shepherd' 'grizzly+bear' 'hippopotamus' 'humpback+whale'\n",
      " 'killer+whale' 'lion' 'mouse' 'otter' 'persian+cat' 'pig' 'polar+bear'\n",
      " 'rhinoceros' 'siamese+cat' 'skunk' 'spider+monkey' 'squirrel' 'tiger'\n",
      " 'weasel' 'wolf' 'zebra'] \n",
      "\n",
      "\u001b[1m \u001b[91m Validation \u001b[0m\n",
      "\u001b[1m Validation Classes \u001b[0m \n",
      " Number of Classes 13 \n",
      " ['beaver' 'chimpanzee' 'dalmatian' 'deer' 'giant+panda' 'gorilla'\n",
      " 'hamster' 'leopard' 'mole' 'moose' 'ox' 'rabbit' 'raccoon'] \n",
      "\n",
      "\u001b[1m \u001b[91m Seen Test \u001b[0m\n",
      "\u001b[1m Seen Test Classes \u001b[0m \n",
      " Number of Classes 40 \n",
      " ['antelope' 'beaver' 'buffalo' 'chihuahua' 'chimpanzee' 'collie' 'cow'\n",
      " 'dalmatian' 'deer' 'elephant' 'fox' 'german+shepherd' 'giant+panda'\n",
      " 'gorilla' 'grizzly+bear' 'hamster' 'hippopotamus' 'humpback+whale'\n",
      " 'killer+whale' 'leopard' 'lion' 'mole' 'moose' 'mouse' 'otter' 'ox'\n",
      " 'persian+cat' 'pig' 'polar+bear' 'rabbit' 'raccoon' 'rhinoceros'\n",
      " 'siamese+cat' 'skunk' 'spider+monkey' 'squirrel' 'tiger' 'weasel' 'wolf'\n",
      " 'zebra'] \n",
      "\n",
      "\u001b[1m \u001b[91m UnSeen Test \u001b[0m\n",
      "\u001b[1m UnSeen Test Classes \u001b[0m \n",
      " Number of Classes 10 \n",
      " ['bat' 'blue+whale' 'bobcat' 'dolphin' 'giraffe' 'horse' 'rat' 'seal'\n",
      " 'sheep' 'walrus'] \n",
      "\n",
      "Execution time: 1.194610834121704 seconds\n"
     ]
    }
   ],
   "source": [
    "trainval_df, TrainData01, ValData01, TrainData02, ValData02, TrainData03, ValData03, Seen_test_df, Unseen_test_df = ut.TestTrainValsplitdata_dir(data_dir, Final_Images_df)"
   ]
  },
  {
   "cell_type": "code",
   "execution_count": 51,
   "id": "0e3cf272",
   "metadata": {},
   "outputs": [],
   "source": [
    "Test = predicate_df[predicate_df['classes'].isin((Unseen_test_df.classes.unique()).tolist())]\n",
    "Train = predicate_df[predicate_df['classes'].isin((trainval_df.classes.unique()).tolist())]"
   ]
  },
  {
   "cell_type": "markdown",
   "id": "5d6dbf15",
   "metadata": {},
   "source": [
    "# Animal attributes"
   ]
  },
  {
   "cell_type": "code",
   "execution_count": 35,
   "id": "08032086",
   "metadata": {
    "scrolled": false
   },
   "outputs": [
    {
     "data": {
      "text/plain": [
       "(array([ 5.85661203,  7.32076504,  8.05284155,  9.51699455,  8.78491805,\n",
       "         5.12453553, 10.24907106,  2.19622951,  1.46415301,  3.66038252]),\n",
       " array([0.00169697, 0.01776729, 0.03383762, 0.04990794, 0.06597826,\n",
       "        0.08204859, 0.09811891, 0.11418923, 0.13025955, 0.14632988,\n",
       "        0.1624002 ]),\n",
       " <BarContainer object of 10 artists>)"
      ]
     },
     "execution_count": 35,
     "metadata": {},
     "output_type": "execute_result"
    },
    {
     "data": {
      "image/png": "[encoded data removed]",
      "text/plain": [
       "<Figure size 640x480 with 1 Axes>"
      ]
     },
     "metadata": {},
     "output_type": "display_data"
    }
   ],
   "source": [
    "plt.hist(np.mean(Train.iloc[:,1:86]), density= True, alpha=0.6)\n",
    "plt.hist(np.mean(Test.iloc[:,1:86]), density= True, alpha=0.6)"
   ]
  },
  {
   "cell_type": "markdown",
   "id": "7d416d7f",
   "metadata": {},
   "source": [
    "# Word2Vec"
   ]
  },
  {
   "cell_type": "code",
   "execution_count": 36,
   "id": "8bc36cf4",
   "metadata": {},
   "outputs": [
    {
     "data": {
      "text/plain": [
       "(array([0.0420426 , 0.21021298, 0.50451116, 1.42944829, 2.606641  ,\n",
       "        2.35438542, 2.77481139, 1.63966128, 0.88289453, 0.16817039]),\n",
       " array([-0.4442627 , -0.36497803, -0.28569336, -0.20640869, -0.12712402,\n",
       "        -0.04783936,  0.03144531,  0.11072998,  0.19001465,  0.26929932,\n",
       "         0.34858398]),\n",
       " <BarContainer object of 10 artists>)"
      ]
     },
     "execution_count": 36,
     "metadata": {},
     "output_type": "execute_result"
    },
    {
     "data": {
      "image/png": "[encoded data removed]",
      "text/plain": [
       "<Figure size 640x480 with 1 Axes>"
      ]
     },
     "metadata": {},
     "output_type": "display_data"
    }
   ],
   "source": [
    "plt.hist(np.mean(Train.iloc[:,-300:]), density= True, alpha=0.6)\n",
    "plt.hist(np.mean(Test.iloc[:,-300:]), density= True, alpha=0.6)"
   ]
  },
  {
   "cell_type": "markdown",
   "id": "eb659397",
   "metadata": {},
   "source": [
    "# Custom KG"
   ]
  },
  {
   "cell_type": "code",
   "execution_count": 48,
   "id": "399cf68e",
   "metadata": {},
   "outputs": [
    {
     "data": {
      "text/plain": [
       "(array([0.08986985, 0.22467463, 0.62908897, 2.5313342 , 3.26527134,\n",
       "        2.35159449, 0.79385037, 0.22467463, 0.04493493, 0.02995662]),\n",
       " array([-0.43940074, -0.34121955, -0.24303835, -0.14485716, -0.04667597,\n",
       "         0.05150523,  0.14968642,  0.24786761,  0.34604881,  0.44423   ,\n",
       "         0.54241119]),\n",
       " <BarContainer object of 10 artists>)"
      ]
     },
     "execution_count": 48,
     "metadata": {},
     "output_type": "execute_result"
    },
    {
     "data": {
      "image/png": "[encoded data removed]",
      "text/plain": [
       "<Figure size 640x480 with 1 Axes>"
      ]
     },
     "metadata": {},
     "output_type": "display_data"
    }
   ],
   "source": [
    "plt.hist(np.mean(Train.iloc[:,-680:]), density= True, alpha=0.6)\n",
    "plt.hist(np.mean(Test.iloc[:,-680:]), density= True, alpha=0.6)"
   ]
  },
  {
   "cell_type": "markdown",
   "id": "3e7faeed",
   "metadata": {},
   "source": [
    "# DBPedia"
   ]
  },
  {
   "cell_type": "code",
   "execution_count": 52,
   "id": "b473e77a",
   "metadata": {},
   "outputs": [
    {
     "data": {
      "text/plain": [
       "(array([0.14669587, 0.14669587, 0.83127659, 1.02687108, 1.56475593,\n",
       "        2.7872215 , 1.7114518 , 1.0757697 , 0.39118898, 0.09779725]),\n",
       " array([-0.53073873, -0.42848636, -0.32623399, -0.22398162, -0.12172925,\n",
       "        -0.01947688,  0.08277548,  0.18502785,  0.28728022,  0.38953259,\n",
       "         0.49178496]),\n",
       " <BarContainer object of 10 artists>)"
      ]
     },
     "execution_count": 52,
     "metadata": {},
     "output_type": "execute_result"
    },
    {
     "data": {
      "image/png": "[encoded data removed]",
      "text/plain": [
       "<Figure size 640x480 with 1 Axes>"
      ]
     },
     "metadata": {},
     "output_type": "display_data"
    }
   ],
   "source": [
    "plt.hist(np.mean(Train.iloc[:,-200:]), density= True, alpha=0.6)\n",
    "plt.hist(np.mean(Test.iloc[:,-200:]), density= True, alpha=0.6)"
   ]
  },
  {
   "cell_type": "code",
   "execution_count": 55,
   "id": "3efb12fa",
   "metadata": {},
   "outputs": [
    {
     "data": {
      "text/plain": [
       "KstestResult(statistic=0.12, pvalue=0.11228360286766195)"
      ]
     },
     "execution_count": 55,
     "metadata": {},
     "output_type": "execute_result"
    }
   ],
   "source": [
    "from scipy.stats import ks_2samp\n",
    "ks_2samp(np.mean(Train.iloc[:,-200:]), np.mean(Test.iloc[:,-200:]))"
   ]
  },
  {
   "cell_type": "code",
   "execution_count": null,
   "id": "40595b37",
   "metadata": {},
   "outputs": [],
   "source": []
  }
 ],
 "metadata": {
  "kernelspec": {
   "display_name": "Python 3 (ipykernel)",
   "language": "python",
   "name": "python3"
  },
  "language_info": {
   "codemirror_mode": {
    "name": "ipython",
    "version": 3
   },
   "file_extension": ".py",
   "mimetype": "text/x-python",
   "name": "python",
   "nbconvert_exporter": "python",
   "pygments_lexer": "ipython3",
   "version": "3.9.12"
  }
 },
 "nbformat": 4,
 "nbformat_minor": 5
}
